{
 "cells": [
  {
   "cell_type": "markdown",
   "metadata": {
    "id": "IImW6xGnwobW"
   },
   "source": [
    "# Rozpoznawanie obrazu\n",
    "Ostatnia aktualizacja: 2021.01.14"
   ]
  },
  {
   "cell_type": "code",
   "execution_count": 34,
   "metadata": {
    "id": "j9NGgReMXoyK"
   },
   "outputs": [],
   "source": [
    "#from keras.datasets import mnist as dataset\n",
    "from keras.datasets import cifar10 as dataset\n",
    "import numpy as np"
   ]
  },
  {
   "cell_type": "code",
   "execution_count": 35,
   "metadata": {
    "id": "wHuV5NPAXr4G"
   },
   "outputs": [],
   "source": [
    "(X_train, y_train), (X_test, y_test) = dataset.load_data()"
   ]
  },
  {
   "cell_type": "markdown",
   "metadata": {
    "id": "spefY_e83sZN"
   },
   "source": [
    "### Wizualizacja danych\n",
    "Zanim zaczniemy cokowliek robić z naszymi danymi, warto zobaczyć, jak wyglądają. Na dobry początek wypiszmy sobie kształty naszych zbiorów danych oraz  wydrukujmy pierwszy element zbioru treningowego (funkcja print) i jego etykietę. "
   ]
  },
  {
   "cell_type": "code",
   "execution_count": 36,
   "metadata": {
    "colab": {
     "base_uri": "https://localhost:8080/"
    },
    "id": "F7D2eVLKuK91",
    "outputId": "e7148761-87fc-4799-d678-2ff8a13d0dc0"
   },
   "outputs": [
    {
     "name": "stdout",
     "output_type": "stream",
     "text": [
      "X_train: (50000, 32, 32, 3), y_train: (50000, 1)\n",
      "X_test: (10000, 32, 32, 3), y_test: (10000, 1)\n"
     ]
    }
   ],
   "source": [
    "print(\"X_train: {}, y_train: {}\".format(X_train.shape, y_train.shape))\n",
    "print(\"X_test: {}, y_test: {}\".format(X_test.shape, y_test.shape)) "
   ]
  },
  {
   "cell_type": "code",
   "execution_count": 12,
   "metadata": {
    "colab": {
     "base_uri": "https://localhost:8080/",
     "height": 284
    },
    "id": "nIh_CbLNcRLZ",
    "outputId": "56dbc329-0621-4281-d633-7f436de126ff"
   },
   "outputs": [
    {
     "data": {
      "text/plain": [
       "<matplotlib.image.AxesImage at 0x7fa46baf6160>"
      ]
     },
     "execution_count": 12,
     "metadata": {
      "tags": []
     },
     "output_type": "execute_result"
    },
    {
     "data": {
      "image/png": "[encoded data removed]",
      "text/plain": [
       "<Figure size 432x288 with 1 Axes>"
      ]
     },
     "metadata": {
      "needs_background": "light",
      "tags": []
     },
     "output_type": "display_data"
    }
   ],
   "source": [
    "import matplotlib.pyplot as plt\n",
    "\n",
    "plt.imshow(X_train[1]) "
   ]
  },
  {
   "cell_type": "code",
   "execution_count": 13,
   "metadata": {
    "colab": {
     "base_uri": "https://localhost:8080/",
     "height": 1000
    },
    "id": "7y1Xy3MPKCb1",
    "outputId": "566f7445-9fff-414d-90ff-75d308eda3c9"
   },
   "outputs": [
    {
     "name": "stdout",
     "output_type": "stream",
     "text": [
      "[[[154 177 187]\n",
      "  [126 137 136]\n",
      "  [105 104  95]\n",
      "  [102 101  99]\n",
      "  [125 131 139]\n",
      "  [155 166 180]\n",
      "  [172 190 210]\n",
      "  [180 199 214]\n",
      "  [142 156 156]\n",
      "  [111 120 110]\n",
      "  [106 107  98]\n",
      "  [109 104 102]\n",
      "  [123 121 117]\n",
      "  [127 129 127]\n",
      "  [181 188 189]\n",
      "  [217 226 229]]\n",
      "\n",
      " [[140 160 169]\n",
      "  [145 153 154]\n",
      "  [125 125 118]\n",
      "  [124 129 132]\n",
      "  [150 161 173]\n",
      "  [152 164 175]\n",
      "  [174 188 200]\n",
      "  [178 189 196]\n",
      "  [134 139 137]\n",
      "  [110 111 102]\n",
      "  [133 127 120]\n",
      "  [163 156 156]\n",
      "  [192 192 187]\n",
      "  [218 219 215]\n",
      "  [240 241 238]\n",
      "  [245 246 245]]\n",
      "\n",
      " [[140 155 164]\n",
      "  [139 146 149]\n",
      "  [115 115 112]\n",
      "  [147 153 159]\n",
      "  [138 150 162]\n",
      "  [132 145 154]\n",
      "  [170 184 190]\n",
      "  [178 189 192]\n",
      "  [171 176 175]\n",
      "  [192 195 189]\n",
      "  [219 218 217]\n",
      "  [234 233 238]\n",
      "  [229 237 235]\n",
      "  [239 245 242]\n",
      "  [244 244 242]\n",
      "  [246 242 241]]\n",
      "\n",
      " [[136 147 155]\n",
      "  [137 142 146]\n",
      "  [122 121 121]\n",
      "  [132 133 139]\n",
      "  [151 157 167]\n",
      "  [181 193 198]\n",
      "  [203 222 224]\n",
      "  [208 227 230]\n",
      "  [208 223 225]\n",
      "  [203 219 217]\n",
      "  [179 194 198]\n",
      "  [169 184 196]\n",
      "  [164 186 190]\n",
      "  [125 141 143]\n",
      "  [178 182 185]\n",
      "  [240 236 238]]\n",
      "\n",
      " [[129 137 144]\n",
      "  [141 146 152]\n",
      "  [136 139 142]\n",
      "  [186 186 190]\n",
      "  [215 220 227]\n",
      "  [202 216 223]\n",
      "  [164 188 195]\n",
      "  [150 178 185]\n",
      "  [138 162 169]\n",
      "  [119 146 150]\n",
      "  [ 94 122 133]\n",
      "  [108 137 154]\n",
      "  [108 139 147]\n",
      "  [ 32  52  60]\n",
      "  [130 138 145]\n",
      "  [241 239 245]]\n",
      "\n",
      " [[136 144 149]\n",
      "  [136 149 165]\n",
      "  [127 148 164]\n",
      "  [153 172 181]\n",
      "  [138 160 173]\n",
      "  [120 141 161]\n",
      "  [ 93 115 138]\n",
      "  [ 98 118 139]\n",
      "  [103 120 137]\n",
      "  [ 96 116 131]\n",
      "  [ 86 108 125]\n",
      "  [119 143 158]\n",
      "  [ 97 119 123]\n",
      "  [ 46  59  66]\n",
      "  [117 122 131]\n",
      "  [203 206 212]]\n",
      "\n",
      " [[146 154 172]\n",
      "  [124 138 168]\n",
      "  [ 88 109 139]\n",
      "  [ 85 105 120]\n",
      "  [ 87 110 124]\n",
      "  [ 84 103 119]\n",
      "  [ 75  90 108]\n",
      "  [ 78  92 106]\n",
      "  [ 69  85  92]\n",
      "  [ 53  72  78]\n",
      "  [ 40  61  66]\n",
      "  [ 54  80  84]\n",
      "  [ 65  89  97]\n",
      "  [ 85  94 105]\n",
      "  [117 118 125]\n",
      "  [144 145 148]]\n",
      "\n",
      " [[162 172 192]\n",
      "  [110 125 154]\n",
      "  [ 63  77 106]\n",
      "  [ 73  82  99]\n",
      "  [ 58  71  82]\n",
      "  [ 46  57  60]\n",
      "  [ 47  55  58]\n",
      "  [ 31  42  46]\n",
      "  [ 15  33  38]\n",
      "  [ 19  40  43]\n",
      "  [ 39  63  65]\n",
      "  [ 63  93  99]\n",
      "  [ 92 125 146]\n",
      "  [121 133 149]\n",
      "  [ 88  86  92]\n",
      "  [120 119 119]]\n",
      "\n",
      " [[127 137 138]\n",
      "  [ 70  90 102]\n",
      "  [ 37  52  67]\n",
      "  [ 34  39  56]\n",
      "  [ 47  54  67]\n",
      "  [ 85  91  92]\n",
      "  [129 132 136]\n",
      "  [104 111 127]\n",
      "  [ 73  90 116]\n",
      "  [ 94 114 139]\n",
      "  [125 149 172]\n",
      "  [138 168 194]\n",
      "  [115 151 183]\n",
      "  [120 131 150]\n",
      "  [ 58  55  62]\n",
      "  [ 67  70  73]]\n",
      "\n",
      " [[ 71  75  69]\n",
      "  [ 74  98 108]\n",
      "  [ 72  93 112]\n",
      "  [ 81  87 110]\n",
      "  [122 129 147]\n",
      "  [161 167 175]\n",
      "  [158 159 178]\n",
      "  [128 134 169]\n",
      "  [ 93 111 149]\n",
      "  [ 98 119 157]\n",
      "  [128 152 188]\n",
      "  [133 164 201]\n",
      "  [104 138 176]\n",
      "  [119 125 146]\n",
      "  [ 54  52  61]\n",
      "  [ 37  48  56]]\n",
      "\n",
      " [[ 49  46  49]\n",
      "  [ 98 122 144]\n",
      "  [105 129 165]\n",
      "  [123 132 165]\n",
      "  [148 158 179]\n",
      "  [143 151 166]\n",
      "  [114 115 148]\n",
      "  [108 113 155]\n",
      "  [ 95 112 146]\n",
      "  [101 123 155]\n",
      "  [125 151 181]\n",
      "  [128 160 192]\n",
      "  [101 131 167]\n",
      "  [118 122 144]\n",
      "  [ 66  67  81]\n",
      "  [ 35  55  70]]\n",
      "\n",
      " [[ 59  58  67]\n",
      "  [103 121 144]\n",
      "  [ 89 113 143]\n",
      "  [112 131 159]\n",
      "  [138 154 177]\n",
      "  [130 143 166]\n",
      "  [123 132 161]\n",
      "  [121 130 162]\n",
      "  [108 122 152]\n",
      "  [107 127 155]\n",
      "  [117 146 171]\n",
      "  [125 160 185]\n",
      "  [103 132 161]\n",
      "  [116 124 148]\n",
      "  [ 78  86 107]\n",
      "  [ 41  66  89]]\n",
      "\n",
      " [[ 84  88 100]\n",
      "  [104 123 146]\n",
      "  [ 81 105 132]\n",
      "  [ 89 117 147]\n",
      "  [118 147 179]\n",
      "  [113 139 172]\n",
      "  [114 137 171]\n",
      "  [105 125 159]\n",
      "  [100 121 154]\n",
      "  [104 131 162]\n",
      "  [113 149 178]\n",
      "  [135 174 199]\n",
      "  [125 151 169]\n",
      "  [124 133 152]\n",
      "  [ 72  81 103]\n",
      "  [ 42  64  91]]\n",
      "\n",
      " [[ 83  89 103]\n",
      "  [ 99 118 142]\n",
      "  [ 71  92 119]\n",
      "  [ 88 114 141]\n",
      "  [105 133 161]\n",
      "  [ 99 125 154]\n",
      "  [ 89 111 141]\n",
      "  [ 94 112 141]\n",
      "  [107 123 148]\n",
      "  [128 148 172]\n",
      "  [142 167 189]\n",
      "  [163 190 208]\n",
      "  [160 178 184]\n",
      "  [151 158 165]\n",
      "  [106 112 129]\n",
      "  [ 65  78 104]]\n",
      "\n",
      " [[ 83  85  97]\n",
      "  [103 116 136]\n",
      "  [ 86 100 119]\n",
      "  [117 129 142]\n",
      "  [157 167 177]\n",
      "  [169 175 186]\n",
      "  [172 176 188]\n",
      "  [161 162 172]\n",
      "  [153 152 157]\n",
      "  [162 163 167]\n",
      "  [201 204 207]\n",
      "  [230 235 236]\n",
      "  [232 240 239]\n",
      "  [220 224 223]\n",
      "  [180 183 190]\n",
      "  [145 150 168]]\n",
      "\n",
      " [[146 142 148]\n",
      "  [180 184 195]\n",
      "  [154 157 168]\n",
      "  [181 183 186]\n",
      "  [219 220 221]\n",
      "  [243 241 243]\n",
      "  [246 240 244]\n",
      "  [233 227 228]\n",
      "  [226 222 218]\n",
      "  [227 224 219]\n",
      "  [239 235 230]\n",
      "  [251 247 244]\n",
      "  [254 253 253]\n",
      "  [237 238 233]\n",
      "  [171 172 169]\n",
      "  [195 194 199]]]\n"
     ]
    },
    {
     "data": {
      "image/png": "[encoded data removed]",
      "text/plain": [
       "<Figure size 432x288 with 1 Axes>"
      ]
     },
     "metadata": {
      "needs_background": "light",
      "tags": []
     },
     "output_type": "display_data"
    }
   ],
   "source": [
    "image_slice = X_train[1][0:16, 0:16, :]\n",
    "plt.imshow(image_slice, cmap = 'gray')\n",
    "print(image_slice)"
   ]
  },
  {
   "cell_type": "code",
   "execution_count": 14,
   "metadata": {
    "colab": {
     "base_uri": "https://localhost:8080/",
     "height": 650
    },
    "id": "ytMD79YIv8hV",
    "outputId": "bc213605-02a1-4ed7-e8f1-043732cc2c28"
   },
   "outputs": [
    {
     "name": "stdout",
     "output_type": "stream",
     "text": [
      "Train data\n"
     ]
    },
    {
     "name": "stderr",
     "output_type": "stream",
     "text": [
      "/usr/local/lib/python3.6/dist-packages/matplotlib/text.py:1165: FutureWarning: elementwise comparison failed; returning scalar instead, but in the future will perform elementwise comparison\n",
      "  if s != self._text:\n"
     ]
    },
    {
     "data": {
      "image/png": "[encoded data removed]",
      "text/plain": [
       "<Figure size 432x288 with 9 Axes>"
      ]
     },
     "metadata": {
      "needs_background": "light",
      "tags": []
     },
     "output_type": "display_data"
    },
    {
     "name": "stdout",
     "output_type": "stream",
     "text": [
      "Test data\n"
     ]
    },
    {
     "data": {
      "image/png": "[encoded data removed]",
      "text/plain": [
       "<Figure size 432x288 with 9 Axes>"
      ]
     },
     "metadata": {
      "needs_background": "light",
      "tags": []
     },
     "output_type": "display_data"
    }
   ],
   "source": [
    "print(\"Train data\")\n",
    "for i in range(9):\n",
    "  plt.subplot(3, 3, i+1)\n",
    "  plt.title(y_train[i])\n",
    "  plt.tight_layout()\n",
    "  plt.imshow(X_train[i], cmap = 'gray')\n",
    "plt.show()\n",
    "\n",
    "print(\"Test data\")\n",
    "for i in range(9):\n",
    "  plt.subplot(3, 3, i+1)\n",
    "  plt.title(y_test[i])\n",
    "  plt.tight_layout()\n",
    "  plt.imshow(X_test[i], cmap = 'gray')\n",
    "plt.show()"
   ]
  },
  {
   "cell_type": "code",
   "execution_count": 16,
   "metadata": {
    "colab": {
     "base_uri": "https://localhost:8080/"
    },
    "id": "qTiBt-7msst-",
    "outputId": "d031f227-d99d-418c-a3cc-4d15acd97c68"
   },
   "outputs": [
    {
     "data": {
      "text/plain": [
       "(array([0, 1, 2, 3, 4, 5, 6, 7, 8, 9], dtype=uint8),\n",
       " array([1000, 1000, 1000, 1000, 1000, 1000, 1000, 1000, 1000, 1000]))"
      ]
     },
     "execution_count": 16,
     "metadata": {
      "tags": []
     },
     "output_type": "execute_result"
    }
   ],
   "source": [
    "np.unique(y_test, return_counts = True)"
   ]
  },
  {
   "cell_type": "markdown",
   "metadata": {
    "id": "Oq7kIoP25Qfs"
   },
   "source": [
    "### Klasyfikacja SVM'em"
   ]
  },
  {
   "cell_type": "code",
   "execution_count": 31,
   "metadata": {
    "colab": {
     "base_uri": "https://localhost:8080/"
    },
    "id": "rPe5KH1KRJLa",
    "outputId": "2f91ce93-431e-450c-8aea-36061d949246"
   },
   "outputs": [
    {
     "data": {
      "text/plain": [
       "(array([0, 1, 2, 3, 4, 5, 6, 7, 8, 9], dtype=uint8),\n",
       " array([5000, 5000, 5000, 5000, 5000, 5000, 5000, 5000, 5000, 5000]))"
      ]
     },
     "execution_count": 31,
     "metadata": {
      "tags": []
     },
     "output_type": "execute_result"
    }
   ],
   "source": [
    "#SVM - prosty ale długo się uczy\n",
    "#train_count = 10000 #aby ograniczyć czas uczenia\n",
    "#X_train = X_train[0:train_count]\n",
    "#y_train = y_train[0:train_count]\n",
    "\n",
    "np.unique(y_train, return_counts = True)"
   ]
  },
  {
   "cell_type": "code",
   "execution_count": 32,
   "metadata": {
    "colab": {
     "base_uri": "https://localhost:8080/"
    },
    "id": "SipIYFGNtRD7",
    "outputId": "f7801b57-9767-4a59-a24b-3edc9571cc29"
   },
   "outputs": [
    {
     "data": {
      "text/plain": [
       "(50000, 3072)"
      ]
     },
     "execution_count": 32,
     "metadata": {
      "tags": []
     },
     "output_type": "execute_result"
    }
   ],
   "source": [
    "X_train.reshape(X_train.shape[0], 32*32*3).shape"
   ]
  },
  {
   "cell_type": "code",
   "execution_count": 17,
   "metadata": {
    "colab": {
     "base_uri": "https://localhost:8080/"
    },
    "id": "Cu9obJdl5OqR",
    "outputId": "543d3601-5cca-433a-8e42-57631ca804ae"
   },
   "outputs": [
    {
     "data": {
      "text/plain": [
       "SVC(C=1.0, break_ties=False, cache_size=200, class_weight=None, coef0=0.0,\n",
       "    decision_function_shape='ovr', degree=3, gamma=0.1, kernel='poly',\n",
       "    max_iter=-1, probability=False, random_state=None, shrinking=True,\n",
       "    tol=0.001, verbose=False)"
      ]
     },
     "execution_count": 17,
     "metadata": {
      "tags": []
     },
     "output_type": "execute_result"
    }
   ],
   "source": [
    "from sklearn import svm\n",
    "\n",
    "classifier = svm.SVC(gamma = 0.1, kernel = 'poly') #gamma i kernel najlepsze wg internetu \n",
    "classifier.fit(X_train.reshape(X_train.shape[0], 32*32*3), y_train.reshape(y_train.shape[0])) #ze względu na to, że dane są 3 wymiarowe (10000, 28, 28) -> (10000, 784)"
   ]
  },
  {
   "cell_type": "code",
   "execution_count": 18,
   "metadata": {
    "id": "6_iH8g-Kxd63"
   },
   "outputs": [],
   "source": [
    "y_pred = classifier.predict(X_test.reshape(X_test.shape[0], 32*32*3))"
   ]
  },
  {
   "cell_type": "code",
   "execution_count": 19,
   "metadata": {
    "colab": {
     "base_uri": "https://localhost:8080/"
    },
    "id": "1stg6wqhTGs9",
    "outputId": "3938187d-1ef8-4383-d356-f61efa5f0e47"
   },
   "outputs": [
    {
     "name": "stdout",
     "output_type": "stream",
     "text": [
      "[3 8 0 8 4 6 1 2 5 9 0 1 5 7 9 8 7 5 8 6]\n",
      "[[3]\n",
      " [8]\n",
      " [8]\n",
      " [0]\n",
      " [6]\n",
      " [6]\n",
      " [1]\n",
      " [6]\n",
      " [3]\n",
      " [1]\n",
      " [0]\n",
      " [9]\n",
      " [5]\n",
      " [7]\n",
      " [9]\n",
      " [8]\n",
      " [5]\n",
      " [7]\n",
      " [8]\n",
      " [6]]\n"
     ]
    }
   ],
   "source": [
    "print(y_pred[:20])\n",
    "print(y_test[:20])"
   ]
  },
  {
   "cell_type": "code",
   "execution_count": 20,
   "metadata": {
    "colab": {
     "base_uri": "https://localhost:8080/"
    },
    "id": "ziWuhDdov3SB",
    "outputId": "92b92d54-0e89-45f9-a5b6-df6e9483d80e"
   },
   "outputs": [
    {
     "name": "stdout",
     "output_type": "stream",
     "text": [
      "[[582  49  91  25  49  29  23  41 123  51]\n",
      " [ 39 614  15  28  12  14  17  29  81 175]\n",
      " [ 78  16 419 103 162 112 116  77  33  18]\n",
      " [ 18  28  98 353  78 211 148  76  38  39]\n",
      " [ 36  13 114  67 454  85  93  76  26  19]\n",
      " [ 31  25  93 216  68 403  84  85  30  28]\n",
      " [ 21  13  77  88  79  50 481  22   8  20]\n",
      " [ 30  27  62  64  65  65  18 543  15  43]\n",
      " [113  60  13  26  22   8  10   9 592  61]\n",
      " [ 52 155  18  30  11  23  10  42  54 546]]\n",
      "0.4987\n"
     ]
    }
   ],
   "source": [
    "from sklearn.metrics import confusion_matrix, accuracy_score\n",
    "\n",
    "print(confusion_matrix(y_pred, y_test))\n",
    "print(accuracy_score(y_pred, y_test))"
   ]
  },
  {
   "cell_type": "markdown",
   "metadata": {
    "id": "0lOBeLJYcAGN"
   },
   "source": [
    "### Klasyfikacja CNN'em\n"
   ]
  },
  {
   "cell_type": "markdown",
   "metadata": {
    "id": "nlW4Jyg_A85O"
   },
   "source": [
    "#### Przygotowanie danych"
   ]
  },
  {
   "cell_type": "markdown",
   "metadata": {
    "id": "YVO3VSVgcNFs"
   },
   "source": [
    "Dla porządku wczytajmy jeszcze raz dane, czyli wczytujemy je do X_train, y_train, X_test, y_test używając metody load_data.  "
   ]
  },
  {
   "cell_type": "code",
   "execution_count": 40,
   "metadata": {
    "id": "PZJEJjc8nzJl"
   },
   "outputs": [],
   "source": [
    "#from keras.datasets import mnist as dataset\n",
    "from keras.datasets import cifar10 as dataset\n",
    "import numpy as np\n",
    "\n",
    "(X_train, y_train), (X_test, y_test) = dataset.load_data()"
   ]
  },
  {
   "cell_type": "code",
   "execution_count": 41,
   "metadata": {
    "colab": {
     "base_uri": "https://localhost:8080/"
    },
    "id": "g_AnZ15Nr7e8",
    "outputId": "ce5f2830-d7cc-4d04-bd31-0387979208a5"
   },
   "outputs": [
    {
     "name": "stdout",
     "output_type": "stream",
     "text": [
      "X_train: (50000, 32, 32, 3), y_train: (50000, 1)\n",
      "X_test: (10000, 32, 32, 3), y_test: (10000, 1)\n",
      "<class 'numpy.ndarray'>\n",
      "<class 'numpy.uint8'>\n"
     ]
    }
   ],
   "source": [
    "print(\"X_train: {}, y_train: {}\".format(X_train.shape, y_train.shape))\n",
    "print(\"X_test: {}, y_test: {}\".format(X_test.shape, y_test.shape))\n",
    "\n",
    "print(type(X_train[0]))\n",
    "print(type(X_train[0][0][0][0]))"
   ]
  },
  {
   "cell_type": "markdown",
   "metadata": {
    "id": "s6hmMA0Tobxz"
   },
   "source": [
    "Sieć szybciej się nauczy na danych o wartościach w zakresie 0-1 niż 0-255, więc musimy je znormalizować. Przeróbmy dane treningowe i testowe tak, żeby miały wartości w zakresie 0-1 zamiast 0-255. Następnie sprawdźmy typ pojedynczego pixela. \n"
   ]
  },
  {
   "cell_type": "code",
   "execution_count": 42,
   "metadata": {
    "colab": {
     "base_uri": "https://localhost:8080/"
    },
    "id": "sVwm01xOoOBo",
    "outputId": "1b2fa48d-a550-49be-ccd4-cc6983221731"
   },
   "outputs": [
    {
     "name": "stdout",
     "output_type": "stream",
     "text": [
      "<class 'numpy.float64'>\n"
     ]
    }
   ],
   "source": [
    "#Sieci są przystosowane do działania na FLOAT z zakresu 0-1\n",
    "X_train = X_train / 255\n",
    "X_test = X_test / 255\n",
    "print(type(X_train[0][0][0][0]))"
   ]
  },
  {
   "cell_type": "markdown",
   "metadata": {
    "id": "qvZBo76asgIr"
   },
   "source": [
    "Domyślna konfiguracja Keras korzysta z 32-bitowych float'ów. Jak w trakcie treningu będziemy podawać sieci 64-bitowe tablice, będzie dużo niepotrzebnego kopiowania, alokowania pamięci, itp. Dlatego przed treningiem zadbajmy o to, żeby nasze dane treningowe i testowe były w formacie 32-bitowym (numpy, metoda astype). \n"
   ]
  },
  {
   "cell_type": "code",
   "execution_count": 44,
   "metadata": {
    "colab": {
     "base_uri": "https://localhost:8080/"
    },
    "id": "F0tgFmGlV7eB",
    "outputId": "db92215e-8688-4025-c609-3113fdbaa301"
   },
   "outputs": [
    {
     "name": "stdout",
     "output_type": "stream",
     "text": [
      "<class 'numpy.float32'>\n"
     ]
    }
   ],
   "source": [
    "#Powyżej powstały float jest 64 bitowy, sieć i tak by go zamieniła w 32 bitowy, więc lepiej się z góry przystosować\n",
    "X_train = X_train.astype('float32')\n",
    "X_test = X_test.astype('float32')\n",
    "print(type(X_train[0][0][0][0]))"
   ]
  },
  {
   "cell_type": "markdown",
   "metadata": {
    "id": "HQJvnE8NeDgT"
   },
   "source": [
    "Przygotowaliśmy dane treningowe, teraz jeszcze etykiety.  W tej chwili jest to wektor liczb - dla każdej instancji mamy jedną liczbę. Nasza sieć będzie miała na wyjściu 10 wartości (score dla każdej klasy), więc musimy przerobić nasze liczby do postaci one-hot. Jeśli klasy trzech instancji to np. [0, 3, 5], w postaci one-hot zamiast tego będziemy mieć na przykład coś takiego:  \n",
    "[1000000000]  \n",
    "[0001000000]  \n",
    "[0000010000]\n",
    "\n",
    "w keras.utils.np_utils mamy funcję to_categorical, która nam zrobi konwersję. Wyniki wpiszmy do zmiennych Y_train i Y_test (duże litery bo macierze). "
   ]
  },
  {
   "cell_type": "code",
   "execution_count": 45,
   "metadata": {
    "colab": {
     "base_uri": "https://localhost:8080/"
    },
    "id": "xQUGyHL2cLBp",
    "outputId": "dd8c6aa3-43e3-4b32-8e51-cc945baaf03a"
   },
   "outputs": [
    {
     "name": "stdout",
     "output_type": "stream",
     "text": [
      "[0. 0. 0. 0. 0. 0. 1. 0. 0. 0.] [6]\n"
     ]
    }
   ],
   "source": [
    "# Sieć oczekuje, aby etykiety były wektorem o wielkości = ilości klas\n",
    "from keras.utils import np_utils\n",
    "Y_train = np_utils.to_categorical(y_train)\n",
    "Y_test = np_utils.to_categorical(y_test)\n",
    "\n",
    "print(Y_train[0], y_train[0])"
   ]
  },
  {
   "cell_type": "markdown",
   "metadata": {
    "id": "x4s1Inr0BTaY"
   },
   "source": [
    "Ostatnia sprawa. Conv2D przyjmuje obrazki w postaci tablicy wielowymiarowej - nie spłaszczamy danych do postaci wektora tak jak w przypadku SVM'a, bo nasz filtr / kernel działa na danych 'przestrzennych' - szerokość x wysokość x liczba kanałów.  \n",
    "W przypadku zdjęć 200 x 200 pixeli w RGB, każdy obrazek byłby tablicą o wymiarach 200 x 200 x 3 (lub 3 x 200 x 200 zależnie od tego jak przechowujemy dane).  \n",
    "Tutaj mamy 1 bajt na pixel i obrazek o wymiarach przestrzennych 28 x 28. Zatem nasze dane powinny mieć wymiary 28 x 28 x 1 (czyli ostatnia wartość nie może być liczbą, tylko tablicą przechowującą liczbę).\n",
    "\n",
    "Czyli musimy wcisnąć 1 wymiar. Gdzie go wciskamy, zależy od konfiguracji. \n",
    "\n",
    "```python\n",
    "from keras import backend as K\n",
    "if K.image_data_format() == 'channels_first':\n",
    "    X_train = X_train.reshape(X_train.shape[0], 1, 28, 28)\n",
    "    X_test = X_test.reshape(X_test.shape[0], 1, 28, 28)\n",
    "    input_shape = (1, 28, 28)\n",
    "else: # channels_last\n",
    "    X_train = X_train.reshape(X_train.shape[0], 28, 28, 1)\n",
    "    X_test = X_test.reshape(X_test.shape[0], 28, 28, 1)\n",
    "    input_shape = (28, 28, 1)\n",
    " ```\n",
    " "
   ]
  },
  {
   "cell_type": "code",
   "execution_count": 46,
   "metadata": {
    "id": "Iz7s9gTEcQDQ"
   },
   "outputs": [],
   "source": [
    "from keras import backend as K                                                                                       # W PRACY DOMOWEJ TRZEBA BĘDZIE ZAKTUALIZOWAĆ DO 3 KANAŁÓW\n",
    "if K.image_data_format() == 'channels_first':\n",
    "    X_train = X_train.reshape(X_train.shape[0], 3, 32, 32)\n",
    "    X_test = X_test.reshape(X_test.shape[0], 3, 32, 32)\n",
    "    input_shape = (3, 32, 32)\n",
    "else: # channels_last\n",
    "    X_train = X_train.reshape(X_train.shape[0], 32, 32, 3)\n",
    "    X_test = X_test.reshape(X_test.shape[0], 32, 32, 3)\n",
    "    input_shape = (32, 32, 3)"
   ]
  },
  {
   "cell_type": "markdown",
   "metadata": {
    "id": "C_wFFlj0gNpP"
   },
   "source": [
    "#### Przygotowanie sieci\n",
    "\n",
    "We wszystkich Conv2D zrobimy kernel 3x3 i aktywację 'relu'.\n",
    "We wszystkich MaxPooling2D robimy pool_size 2x2\n",
    "\n",
    "Zróbmy sobie taki model (może być Sequential): \n",
    "- Na wejściu Conv2D (musimy podać input_shape - mamy go w zmiennej input_shape)\n",
    "- MaxPooling2D\n",
    "- Conv2D, 32 filtry\n",
    "- MaxPooling2D\n",
    "- Flatten (spłaszczamy dane do 1-wymiarowego wektora)\n",
    "- [Dense (czyli tzw. fully connected)](https://keras.io/layers/core/), 128 units, activation [relu](https://cs-cheatsheet.readthedocs.io/en/latest/_images/activation_functions.png)\n",
    "- Na wyjściu Dense, units tyle, co klas, [aktywacja softmax](https://qph.fs.quoracdn.net/main-qimg-fda2f008df90ed5d7b6aff89b881e1ac)\n",
    "\n",
    "Na pewno przydadzą się te importy: \n",
    "```python\n",
    "from keras.models import Sequential\n",
    "from keras.layers import Dense, Flatten\n",
    "from keras.layers.convolutional import Conv2D, MaxPooling2D\n",
    "```"
   ]
  },
  {
   "cell_type": "code",
   "execution_count": 129,
   "metadata": {
    "id": "L9_nnUIchprg"
   },
   "outputs": [],
   "source": [
    "from keras.models import Sequential\n",
    "from keras.layers import Dense, Flatten\n",
    "from keras.layers.convolutional import Conv2D, MaxPooling2D\n",
    "from keras.layers import Dropout\n",
    "\n",
    "model = Sequential([\n",
    "  Conv2D(64, kernel_size = (3, 3), activation = 'relu', input_shape = input_shape),         #32 filtry (do poeksperymentowania potem) ; input_shape później już nie podaje\n",
    "  MaxPooling2D(pool_size = (2, 2)),                                                         #2x2 zmniejsza o połowe obrazek\n",
    "  Conv2D(32, kernel_size = (3, 3), activation = 'relu'),                                    #mw 14x14x32 - wymiary wejściowe, bo 28x28x1 -> 28x28x32 -> 14x14x32\n",
    "  MaxPooling2D(pool_size = (2, 2)),\n",
    "  Dropout(0.1),\n",
    "  Flatten(),                                      #weźmie wielowymiarowy obrazek i zrobi z tego wektor\n",
    "  Dense(128, activation = 'relu'),                #warstwy gęste, fully connected\n",
    "  Dense(10, activation = 'softmax')\n",
    "])"
   ]
  },
  {
   "cell_type": "markdown",
   "metadata": {
    "id": "m4w8gGsElbVG"
   },
   "source": [
    "Mamy obiekt 'model', teraz musimy uruchomić metodę 'compile', która przygotuje nas do treningu. Spróbujmy loss 'categorical_crossentropy', optimizer 'adam'. Argument metric przyjmuje tablicę stringów, będziemy chcieli 'accuracy'. "
   ]
  },
  {
   "cell_type": "code",
   "execution_count": 130,
   "metadata": {
    "id": "3ki1a29Zl65r"
   },
   "outputs": [],
   "source": [
    "model.compile(loss = 'categorical_crossentropy',\n",
    "              optimizer = 'adam',\n",
    "              metrics = ['accuracy'])"
   ]
  },
  {
   "cell_type": "markdown",
   "metadata": {
    "id": "7DEM-xKbmFNO"
   },
   "source": [
    "#### Trening\n"
   ]
  },
  {
   "cell_type": "code",
   "execution_count": 131,
   "metadata": {
    "colab": {
     "base_uri": "https://localhost:8080/"
    },
    "id": "m1DvkEW2JOA5",
    "outputId": "539ca2cd-53b5-42fa-f123-1e34f11aebf3"
   },
   "outputs": [
    {
     "name": "stdout",
     "output_type": "stream",
     "text": [
      "Epoch 1/20\n",
      "397/397 [==============================] - 3s 6ms/step - loss: 1.8664 - accuracy: 0.3088\n",
      "Epoch 2/20\n",
      "397/397 [==============================] - 2s 5ms/step - loss: 1.3369 - accuracy: 0.5217\n",
      "Epoch 3/20\n",
      "397/397 [==============================] - 2s 6ms/step - loss: 1.1711 - accuracy: 0.5833\n",
      "Epoch 4/20\n",
      "397/397 [==============================] - 2s 6ms/step - loss: 1.0646 - accuracy: 0.6249\n",
      "Epoch 5/20\n",
      "397/397 [==============================] - 2s 6ms/step - loss: 0.9904 - accuracy: 0.6532\n",
      "Epoch 6/20\n",
      "397/397 [==============================] - 2s 6ms/step - loss: 0.9410 - accuracy: 0.6715\n",
      "Epoch 7/20\n",
      "397/397 [==============================] - 2s 5ms/step - loss: 0.8879 - accuracy: 0.6913\n",
      "Epoch 8/20\n",
      "397/397 [==============================] - 2s 5ms/step - loss: 0.8410 - accuracy: 0.7070\n",
      "Epoch 9/20\n",
      "397/397 [==============================] - 2s 5ms/step - loss: 0.8077 - accuracy: 0.7153\n",
      "Epoch 10/20\n",
      "397/397 [==============================] - 2s 5ms/step - loss: 0.7863 - accuracy: 0.7276\n",
      "Epoch 11/20\n",
      "397/397 [==============================] - 2s 5ms/step - loss: 0.7464 - accuracy: 0.7377\n",
      "Epoch 12/20\n",
      "397/397 [==============================] - 2s 5ms/step - loss: 0.7139 - accuracy: 0.7466\n",
      "Epoch 13/20\n",
      "397/397 [==============================] - 2s 5ms/step - loss: 0.6952 - accuracy: 0.7551\n",
      "Epoch 14/20\n",
      "397/397 [==============================] - 2s 6ms/step - loss: 0.6619 - accuracy: 0.7680\n",
      "Epoch 15/20\n",
      "397/397 [==============================] - 2s 6ms/step - loss: 0.6323 - accuracy: 0.7757\n",
      "Epoch 16/20\n",
      "397/397 [==============================] - 2s 5ms/step - loss: 0.6129 - accuracy: 0.7808\n",
      "Epoch 17/20\n",
      "397/397 [==============================] - 2s 5ms/step - loss: 0.6025 - accuracy: 0.7870\n",
      "Epoch 18/20\n",
      "397/397 [==============================] - 2s 5ms/step - loss: 0.5743 - accuracy: 0.7933\n",
      "Epoch 19/20\n",
      "397/397 [==============================] - 2s 5ms/step - loss: 0.5547 - accuracy: 0.8013\n",
      "Epoch 20/20\n",
      "397/397 [==============================] - 2s 6ms/step - loss: 0.5266 - accuracy: 0.8135\n"
     ]
    },
    {
     "data": {
      "text/plain": [
       "<tensorflow.python.keras.callbacks.History at 0x7fa3e81eb208>"
      ]
     },
     "execution_count": 131,
     "metadata": {
      "tags": []
     },
     "output_type": "execute_result"
    }
   ],
   "source": [
    "model.fit(X_train, Y_train, epochs = 20, batch_size = 126) #batch_size - ile próbek na raz dajemy do sieci"
   ]
  },
  {
   "cell_type": "markdown",
   "metadata": {
    "id": "fgxalzmim4Hl"
   },
   "source": [
    "#### Ewaluacja\n",
    "Zobaczmy, jak nasz model sobie radzi: model.evaluate()"
   ]
  },
  {
   "cell_type": "code",
   "execution_count": 132,
   "metadata": {
    "colab": {
     "base_uri": "https://localhost:8080/"
    },
    "id": "HDCHLqc4m4qX",
    "outputId": "51ff7158-c365-4624-aceb-2a8ed065cae6"
   },
   "outputs": [
    {
     "name": "stdout",
     "output_type": "stream",
     "text": [
      "313/313 [==============================] - 1s 2ms/step - loss: 0.8418 - accuracy: 0.7191\n",
      "0.7190999984741211\n"
     ]
    }
   ],
   "source": [
    "scores = model.evaluate(X_test, Y_test)\n",
    "print(scores[1])"
   ]
  },
  {
   "cell_type": "markdown",
   "metadata": {
    "id": "dUYwh9zjrp6-"
   },
   "source": [
    "Przyjrzyjmy się konkretnym przypadkom: model.predict_classes, zapiszmy sobie do wektora y_pred"
   ]
  },
  {
   "cell_type": "code",
   "execution_count": 133,
   "metadata": {
    "colab": {
     "base_uri": "https://localhost:8080/"
    },
    "id": "dvck7YSXpUbk",
    "outputId": "5a9ac7da-c5a8-4b5f-a3b6-a6f3a1aed7c9"
   },
   "outputs": [
    {
     "name": "stderr",
     "output_type": "stream",
     "text": [
      "/usr/local/lib/python3.6/dist-packages/tensorflow/python/keras/engine/sequential.py:450: UserWarning: `model.predict_classes()` is deprecated and will be removed after 2021-01-01. Please use instead:* `np.argmax(model.predict(x), axis=-1)`,   if your model does multi-class classification   (e.g. if it uses a `softmax` last-layer activation).* `(model.predict(x) > 0.5).astype(\"int32\")`,   if your model does binary classification   (e.g. if it uses a `sigmoid` last-layer activation).\n",
      "  warnings.warn('`model.predict_classes()` is deprecated and '\n"
     ]
    },
    {
     "name": "stdout",
     "output_type": "stream",
     "text": [
      "[5 8 8 0 4 6 1 2 3 1]\n",
      "[[3]\n",
      " [8]\n",
      " [8]\n",
      " [0]\n",
      " [6]\n",
      " [6]\n",
      " [1]\n",
      " [6]\n",
      " [3]\n",
      " [1]]\n"
     ]
    }
   ],
   "source": [
    "y_pred = model.predict_classes(X_test)\n",
    "print(y_pred[:10])\n",
    "print(y_test[:10])"
   ]
  },
  {
   "cell_type": "markdown",
   "metadata": {
    "id": "3psthgTBsqq5"
   },
   "source": [
    "Zobaczmy, na których instancjach testowych sobie nie radzi. Możemy na przykład porównać y_pred z y_test (operator !=). W wyciągnięciu indeksów pomyłkowych instancji pomoże nam funkcja numpy nonzero. Zapiszmy sobie te indeksy do zmiennej false_pred i wypiszmy jej zawartość. "
   ]
  },
  {
   "cell_type": "code",
   "execution_count": 69,
   "metadata": {
    "colab": {
     "base_uri": "https://localhost:8080/"
    },
    "id": "7LK83GpTuhpK",
    "outputId": "3ea443a4-4558-4eda-a3ed-b0825fcfb7a9"
   },
   "outputs": [
    {
     "data": {
      "text/plain": [
       "(10000, 1)"
      ]
     },
     "execution_count": 69,
     "metadata": {
      "tags": []
     },
     "output_type": "execute_result"
    }
   ],
   "source": [
    "y_pred.shape\n",
    "y_test.shape"
   ]
  },
  {
   "cell_type": "code",
   "execution_count": 74,
   "metadata": {
    "colab": {
     "base_uri": "https://localhost:8080/"
    },
    "id": "PRCzkluipzN9",
    "outputId": "4f78aac4-5c44-4791-dda1-5fda3ffaf184"
   },
   "outputs": [
    {
     "name": "stdout",
     "output_type": "stream",
     "text": [
      "[   2    4    6 ... 9993 9995 9998]\n"
     ]
    }
   ],
   "source": [
    "false_pred = np.nonzero(y_pred != y_test.reshape(y_test.shape[0]))[0]\n",
    "print(false_pred)"
   ]
  },
  {
   "cell_type": "code",
   "execution_count": 75,
   "metadata": {
    "colab": {
     "base_uri": "https://localhost:8080/",
     "height": 297
    },
    "id": "S4e3_jY9satJ",
    "outputId": "9b59ea0c-f852-4ba4-f47b-69a25995be2d"
   },
   "outputs": [
    {
     "data": {
      "image/png": "[encoded data removed]",
      "text/plain": [
       "<Figure size 432x288 with 9 Axes>"
      ]
     },
     "metadata": {
      "needs_background": "light",
      "tags": []
     },
     "output_type": "display_data"
    }
   ],
   "source": [
    "import matplotlib.pyplot as plt\n",
    "\n",
    "for i in range(9):\n",
    "  instance_index = false_pred[i]\n",
    "  plt.subplot(3, 3, i+1)\n",
    "  plt.tight_layout()\n",
    "  plt.title(\"l:{} p:{}\".format(y_test[instance_index], y_pred[instance_index]))\n",
    "  plt.imshow(X_test[instance_index].reshape(32, 32, 3), cmap = 'gray')"
   ]
  },
  {
   "cell_type": "markdown",
   "metadata": {
    "id": "bKQWMAUgxLlL"
   },
   "source": [
    "Accuracy oraz confusion matrix dla 256 batch_size oraz 40 epoch"
   ]
  },
  {
   "cell_type": "code",
   "execution_count": 76,
   "metadata": {
    "colab": {
     "base_uri": "https://localhost:8080/"
    },
    "id": "Mu3CDQ6SvjZH",
    "outputId": "8cc52683-51b1-46fa-857c-83a789ed9ee9"
   },
   "outputs": [
    {
     "name": "stdout",
     "output_type": "stream",
     "text": [
      "[[674  16  53  16  19  14   9   9  47  22]\n",
      " [ 37 824  11  23   3   8   9   7  53 113]\n",
      " [ 77  14 620  92 114  76  72  48  19  17]\n",
      " [ 25  15  59 491  71 194  61  44  16  18]\n",
      " [ 27   6  85  72 607  58  46  86  13  10]\n",
      " [  7   4  58 147  35 519  19  62   9  13]\n",
      " [ 13  11  49  65  58  36 750  12   7   9]\n",
      " [  5   6  35  48  64  72  12 697   2  23]\n",
      " [ 85  31  18  19  23  13  15  10 793  45]\n",
      " [ 50  73  12  27   6  10   7  25  41 730]]\n",
      "0.6705\n"
     ]
    }
   ],
   "source": [
    "from sklearn.metrics import confusion_matrix, accuracy_score\n",
    "\n",
    "print(confusion_matrix(y_pred, y_test))\n",
    "print(accuracy_score(y_pred, y_test))"
   ]
  },
  {
   "cell_type": "markdown",
   "metadata": {
    "id": "ljBYmKeUxSUr"
   },
   "source": [
    "Accuracy oraz confusion matrix dla 256 batch_size oraz 30 epoch"
   ]
  },
  {
   "cell_type": "code",
   "execution_count": 89,
   "metadata": {
    "colab": {
     "base_uri": "https://localhost:8080/"
    },
    "id": "_GpmjLqYxRV4",
    "outputId": "7756142e-7f77-439c-8943-7aa8a174f137"
   },
   "outputs": [
    {
     "name": "stdout",
     "output_type": "stream",
     "text": [
      "[[784  26  99  45  49  31   7  45  74  65]\n",
      " [ 25 853  12  22  11   7  12  19  49 145]\n",
      " [ 42   9 515  57  67  53  47  32  16  10]\n",
      " [ 11  13  68 493  57 175  50  42  16  12]\n",
      " [ 13   2  79  62 626  44  39  37   9   6]\n",
      " [ 11   4  81 161  41 573  29  58   4   9]\n",
      " [ 13   7  73  76  42  33 787  10   6   7]\n",
      " [ 11   4  41  46  88  64  10 744   6  16]\n",
      " [ 71  21  21  15  14  10  11   4 796  29]\n",
      " [ 19  61  11  23   5  10   8   9  24 701]]\n",
      "0.6872\n"
     ]
    }
   ],
   "source": [
    "from sklearn.metrics import confusion_matrix, accuracy_score\n",
    "\n",
    "print(confusion_matrix(y_pred, y_test))\n",
    "print(accuracy_score(y_pred, y_test))"
   ]
  },
  {
   "cell_type": "markdown",
   "metadata": {
    "id": "NEJMPXUCyfim"
   },
   "source": [
    "Accuracy oraz confusion matrix dla 256 batch_size oraz 20 epoch"
   ]
  },
  {
   "cell_type": "code",
   "execution_count": 95,
   "metadata": {
    "colab": {
     "base_uri": "https://localhost:8080/"
    },
    "id": "IWH0YBlwygyQ",
    "outputId": "89c18b52-4766-4a75-a15f-b5b2179ca5d9"
   },
   "outputs": [
    {
     "name": "stdout",
     "output_type": "stream",
     "text": [
      "[[825  25  88  33  34  21  13  23 114  52]\n",
      " [ 32 874  14  19   8   7  12   8  77 190]\n",
      " [ 40  11 604  98 109  55  83  41  17   9]\n",
      " [  9   6  43 470  56 130  63  25   6  15]\n",
      " [  7   4  67  62 627  46  63  58  11   4]\n",
      " [ 10   4  88 201  45 655  39  64  11  11]\n",
      " [  6   6  37  38  34  14 703   6   2   6]\n",
      " [ 12   9  46  56  76  61  11 769  10  39]\n",
      " [ 43  18   6  13   9   6   9   1 739  22]\n",
      " [ 16  43   7  10   2   5   4   5  13 652]]\n",
      "0.6918\n"
     ]
    }
   ],
   "source": [
    "from sklearn.metrics import confusion_matrix, accuracy_score\n",
    "\n",
    "print(confusion_matrix(y_pred, y_test))\n",
    "print(accuracy_score(y_pred, y_test))"
   ]
  },
  {
   "cell_type": "markdown",
   "metadata": {
    "id": "JWNrhsjqyzX-"
   },
   "source": [
    "Accuracy oraz confusion matrix dla 126 batch_size oraz 20 epoch"
   ]
  },
  {
   "cell_type": "code",
   "execution_count": 101,
   "metadata": {
    "colab": {
     "base_uri": "https://localhost:8080/"
    },
    "id": "BYfBhMtay2Dn",
    "outputId": "3184c7d0-9e18-474f-ada9-1e7ed190af45"
   },
   "outputs": [
    {
     "name": "stdout",
     "output_type": "stream",
     "text": [
      "[[712  24  63  20  14  21   5  19  50  36]\n",
      " [ 25 802   9  16   5   6   7   4  30  65]\n",
      " [ 57   6 562  41  57  32  43  17  12   7]\n",
      " [ 28  13  96 603  93 251  98  53  19  23]\n",
      " [ 28   8  90  79 670  49  48  63   7   9]\n",
      " [  6   5  55 125  37 542  25  38   7   3]\n",
      " [ 11  11  43  31  30  17 744   2   8   5]\n",
      " [ 13   2  53  46  79  60  13 778  10  14]\n",
      " [ 92  38  18  21  14  16  12   6 833  41]\n",
      " [ 28  91  11  18   1   6   5  20  24 797]]\n",
      "0.7043\n"
     ]
    }
   ],
   "source": [
    "from sklearn.metrics import confusion_matrix, accuracy_score\n",
    "\n",
    "print(confusion_matrix(y_pred, y_test))\n",
    "print(accuracy_score(y_pred, y_test))"
   ]
  },
  {
   "cell_type": "markdown",
   "metadata": {
    "id": "d9CDtXUczOsZ"
   },
   "source": [
    "Accuracy oraz confusion matrix dla 126 batch_size oraz 10 epoch"
   ]
  },
  {
   "cell_type": "code",
   "execution_count": 108,
   "metadata": {
    "colab": {
     "base_uri": "https://localhost:8080/"
    },
    "id": "C8sMCHBwzMgv",
    "outputId": "c1bff0e6-003a-42b0-90b5-f9682fffc3ba"
   },
   "outputs": [
    {
     "name": "stdout",
     "output_type": "stream",
     "text": [
      "[[728  22  65  30  29  22   6  19  58  48]\n",
      " [ 33 852   7  25   6   5  10  18  49 167]\n",
      " [ 72  17 658 124 143 114  91  59  13  22]\n",
      " [ 10  11  48 483  60 177  66  30  15  13]\n",
      " [ 10   2  71  57 570  36  33  48   6   4]\n",
      " [  9   4  54 153  30 551  25  61   6   5]\n",
      " [ 10   7  40  57  57  18 755   9   4  14]\n",
      " [ 14   3  30  35  85  55   6 736   3  21]\n",
      " [ 89  43  21  26  19  20   8   7 834  47]\n",
      " [ 25  39   6  10   1   2   0  13  12 659]]\n",
      "0.6826\n"
     ]
    }
   ],
   "source": [
    "from sklearn.metrics import confusion_matrix, accuracy_score\n",
    "\n",
    "print(confusion_matrix(y_pred, y_test))\n",
    "print(accuracy_score(y_pred, y_test))"
   ]
  },
  {
   "cell_type": "markdown",
   "metadata": {
    "id": "W8dzeusTz3u_"
   },
   "source": [
    "Accuracy oraz confusion matrix dla 126 batch_size oraz 10 epoch + dodana warstwa Dropout(0.1) po warstwach konwolucyjnych (przed Flatten())"
   ]
  },
  {
   "cell_type": "code",
   "execution_count": 116,
   "metadata": {
    "colab": {
     "base_uri": "https://localhost:8080/"
    },
    "id": "TJH_Pv5UzxrK",
    "outputId": "29225ae9-da68-4466-96e9-cb4bf34b2f41"
   },
   "outputs": [
    {
     "name": "stdout",
     "output_type": "stream",
     "text": [
      "[[720  17  56  13  10  15   6  11  46  19]\n",
      " [ 26 811   8  15   5   5   8   9  35  67]\n",
      " [ 42   3 526  35  40  37  34  17   7   8]\n",
      " [  7   7  57 475  46 122  70  30   8  11]\n",
      " [ 42  12 149 114 767  71  90  82  13   8]\n",
      " [ 11   7  92 223  38 658  54  62  10  12]\n",
      " [  6   5  39  32  24  10 711   5   1   3]\n",
      " [ 17   4  43  44  53  56   9 756   4  13]\n",
      " [ 76  40  14  24  13  11   7   5 849  37]\n",
      " [ 53  94  16  25   4  15  11  23  27 822]]\n",
      "0.7095\n"
     ]
    }
   ],
   "source": [
    "from sklearn.metrics import confusion_matrix, accuracy_score\n",
    "\n",
    "print(confusion_matrix(y_pred, y_test))\n",
    "print(accuracy_score(y_pred, y_test))"
   ]
  },
  {
   "cell_type": "markdown",
   "metadata": {
    "id": "39U4nLCc0IhX"
   },
   "source": [
    "Accuracy oraz confusion matrix dla 126 batch_size oraz 10 epoch + dodana warstwa Dropout(0.1) po warstwach konwolucyjnych (przed Flatten()) + zmieniona ilość filtrów w pierwszej warstwie konwolucyjnej na 64"
   ]
  },
  {
   "cell_type": "code",
   "execution_count": 122,
   "metadata": {
    "colab": {
     "base_uri": "https://localhost:8080/"
    },
    "id": "zfLAnTie0PJE",
    "outputId": "b54c5d21-9cda-428d-e58f-e423bbe0e25d"
   },
   "outputs": [
    {
     "name": "stdout",
     "output_type": "stream",
     "text": [
      "[[786  22  63  27  21  17   8  20  72  34]\n",
      " [ 18 877  13  15   8   4  11   7  40 123]\n",
      " [ 57   2 602  66  59  36  42  37  13  13]\n",
      " [ 17  13  72 562  88 174  83  42  16  23]\n",
      " [ 15   4  67  42 639  37  14  45   3   6]\n",
      " [  8   5  62 161  42 626  29  62   6   8]\n",
      " [  6   5  69  47  52  31 799   5   3   5]\n",
      " [  8   2  27  49  76  60   3 765   1  13]\n",
      " [ 58  27  15  17  13  11   8   4 830  37]\n",
      " [ 27  43  10  14   2   4   3  13  16 738]]\n",
      "0.7224\n"
     ]
    }
   ],
   "source": [
    "from sklearn.metrics import confusion_matrix, accuracy_score\n",
    "\n",
    "print(confusion_matrix(y_pred, y_test))\n",
    "print(accuracy_score(y_pred, y_test))"
   ]
  },
  {
   "cell_type": "markdown",
   "metadata": {
    "id": "GT0haxsk0hUV"
   },
   "source": [
    "Accuracy oraz confusion matrix dla 126 batch_size oraz 10 epoch + dodana warstwa Dropout(0.1) po pierwszej warstwie Pooling + zmieniona ilość filtrów w pierwszej warstwie konwolucyjnej na 64"
   ]
  },
  {
   "cell_type": "code",
   "execution_count": 128,
   "metadata": {
    "colab": {
     "base_uri": "https://localhost:8080/"
    },
    "id": "YwhBTZz00mXW",
    "outputId": "25d0b9c0-55f7-40cb-cb0e-7332ccea99a6"
   },
   "outputs": [
    {
     "name": "stdout",
     "output_type": "stream",
     "text": [
      "[[733  17  60  22  21  12   5  17  71  31]\n",
      " [ 18 826   6  13   5   5   7   2  39  84]\n",
      " [ 87  19 593  68  85  52  38  38  28  16]\n",
      " [ 14   9  52 441  38 121  40  34  12  12]\n",
      " [ 18   4  67  69 640  45  25  71   6   3]\n",
      " [ 13   7 102 242  82 688  42 116  14  12]\n",
      " [ 12  10  76  87  63  34 830  10  15  11]\n",
      " [  8   2  24  32  52  26   6 687   3  21]\n",
      " [ 57  21  10  14  10   9   5   6 778  26]\n",
      " [ 40  85  10  12   4   8   2  19  34 784]]\n",
      "0.7\n"
     ]
    }
   ],
   "source": [
    "from sklearn.metrics import confusion_matrix, accuracy_score\n",
    "\n",
    "print(confusion_matrix(y_pred, y_test))\n",
    "print(accuracy_score(y_pred, y_test))"
   ]
  },
  {
   "cell_type": "markdown",
   "metadata": {
    "id": "lrN7xwPay9U1"
   },
   "source": [
    "Patrząć na metrykę 'accuracy' model konwulycjnych sieci neuronowych wypadł o wiele lepiej niż SVM. W przypadku SVM osiągnięty został poziom accuracy = 0.4987 na danych testowych, gdy sieci neuronowe osiągały tą metryke na poziomie 0.67+, a dodatkowo czas uczenia był o wiele dłuższy niż w przypadku sieci neuronowych. Jeżeli chodzi o konwolucyjne sieci neuronowe, to przetestowałem je z różnymi parametrami \"batch_size\", ilość \"epoch\" oraz różnymi architekturami sieci, których wyniki z konkretnymi kombinacjami budowy są podane powyżej. W pierwszym kroku sprawdzałem dla jakich wartości \"batch_size\" oraz \"epoch\" model daje najtrafniejsze predykcje - batch_size = 126 oraz epochs = 20. W przypadku robienia więcej niż 20 powtórzeń (epoch) algorytm widać, że się przeuczał ponieważ jego accuracy na danych treningowych ciągle wzrastało wręcz do 1.0 a na testowych ulegało pogorszeniu. Następnie przetestowałem jaka będzie jakość klasyfikacji po dodaniu warstwy upuszczającej jakąś część informacji (Dropout), która też ma przeciwdziałać przeuczaniu się modelu, spróbowałem dać ją w dwóch miejscach w architekturze sieci: 1. Bezpośrednio przed warstwą spłaszczającą dane do wektora (Flatten) oraz 2. Bezpośrednio po pierwszej wartswie Pooling. Lepsza okazała się opcja 1. dla której również przetestowałem zmianę liczby filtrów w pierwszej sieci konwolucyjnej z 32 na 64, co okazało się trafne i polepszyło jakość modelu.  Finalna kombinacja: 126 batch_size, 10 epoch + dodana warstwa Dropout(0.1) po warstwach konwolucyjnych (przed Flatten()) + zmieniona ilość filtrów w pierwszej warstwie konwolucyjnej na 64 poskutkowała trafnością (accuracy) na poziomie 0.7224 w porównaniu do wyniku 0.6705 dla najgorszej sieci neuronowej której architektura pozostała taka sama jak w przypadku sieci konwolucyjnych z zajęć a \"batch_size\" oraz \"epochs\" wyniosiły odpowiednio 256 oraz 40. "
   ]
  }
 ],
 "metadata": {
  "accelerator": "GPU",
  "colab": {
   "collapsed_sections": [],
   "name": "ZUM_img_1_21q1.ipynb",
   "provenance": []
  },
  "kernelspec": {
   "display_name": "Python 3",
   "language": "python",
   "name": "python3"
  },
  "language_info": {
   "codemirror_mode": {
    "name": "ipython",
    "version": 3
   },
   "file_extension": ".py",
   "mimetype": "text/x-python",
   "name": "python",
   "nbconvert_exporter": "python",
   "pygments_lexer": "ipython3",
   "version": "3.8.5"
  }
 },
 "nbformat": 4,
 "nbformat_minor": 1
}
